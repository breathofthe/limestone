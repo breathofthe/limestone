{
 "cells": [
  {
   "cell_type": "code",
   "execution_count": 1,
   "id": "279dd508-4f6d-4e09-9b02-22e3c462b529",
   "metadata": {},
   "outputs": [],
   "source": [
    "import pandas as pd\n",
    "import numpy as np\n",
    "from sklearn.model_selection import train_test_split\n",
    "from sklearn.ensemble import GradientBoostingRegressor\n",
    "from sklearn.metrics import mean_squared_error, r2_score\n",
    "\n",
    "# 데이터 로드 및 전처리\n",
    "file_path = '제12회 데이터 분석 과제 데이터_분석과제5.xlsx'\n",
    "df = pd.read_excel(file_path, sheet_name='result_6')\n",
    "\n",
    "# 컬럼명 재정의 및 필요 없는 행 제거\n",
    "df.columns = [\n",
    "    'DateTime', 'Power_Unit3', 'OutletSox_Unit3', 'Compliance_Unit3', 'Power_Unit4', 'OutletSox_Unit4',\n",
    "    'Compliance_Unit4', 'Power_Unit5', 'OutletSox_Unit5', 'Compliance_Unit5', 'Power_Unit6', 'OutletSox_Unit6',\n",
    "    'Compliance_Unit6', 'InletSox_Unit3', 'InletSox_Unit4', 'InletSox_Unit5', 'InletSox_Unit6',\n",
    "    'Limestone_Unit3', 'Limestone_Unit4', 'Limestone_Unit5', 'Limestone_Unit6'\n",
    "]\n",
    "df = df.drop(0)  # 첫 번째 행 제거\n",
    "df['DateTime'] = pd.to_datetime(df['DateTime'], errors='coerce')  # 날짜 형식 변환\n",
    "df.iloc[:, 1:] = df.iloc[:, 1:].apply(pd.to_numeric, errors='coerce')  # 나머지 열을 숫자로 변환\n",
    "\n",
    "# NaN 값을 평균값으로 대체\n",
    "df = df.fillna(df.mean())\n",
    "\n",
    "# 'SoxDiff_Unit3' 열 생성\n",
    "df['SoxDiff_Unit3'] = df['InletSox_Unit3'] - df['OutletSox_Unit3']\n",
    "\n",
    "# 'SoxDiff_Unit3' 값이 음수인 행 제거\n",
    "df = df[df['SoxDiff_Unit3'] >= 0]"
   ]
  },
  {
   "cell_type": "code",
   "execution_count": null,
   "id": "bca13138-14cc-4228-a9de-70d284776ff0",
   "metadata": {},
   "outputs": [],
   "source": [
    "import pandas as pd\n",
    "import numpy as np\n",
    "from sklearn.model_selection import train_test_split\n",
    "from sklearn.ensemble import GradientBoostingRegressor\n",
    "from sklearn.metrics import mean_squared_error, r2_score\n",
    "\n",
    "# 데이터 로드 및 전처리\n",
    "file_path = '제12회 데이터 분석 과제 데이터_분석과제5.xlsx'\n",
    "df = pd.read_excel(file_path, sheet_name='result_6')\n",
    "\n",
    "# 컬럼명 재정의 및 필요 없는 행 제거\n",
    "df.columns = [\n",
    "    'DateTime', 'Power_Unit3', 'OutletSox_Unit3', 'Compliance_Unit3', 'Power_Unit4', 'OutletSox_Unit4',\n",
    "    'Compliance_Unit4', 'Power_Unit5', 'OutletSox_Unit5', 'Compliance_Unit5', 'Power_Unit6', 'OutletSox_Unit6',\n",
    "    'Compliance_Unit6', 'InletSox_Unit3', 'InletSox_Unit4', 'InletSox_Unit5', 'InletSox_Unit6',\n",
    "    'Limestone_Unit3', 'Limestone_Unit4', 'Limestone_Unit5', 'Limestone_Unit6'\n",
    "]\n",
    "df = df.drop(0)  # 첫 번째 행 제거\n",
    "df['DateTime'] = pd.to_datetime(df['DateTime'], errors='coerce')  # 날짜 형식 변환\n",
    "df.iloc[:, 1:] = df.iloc[:, 1:].apply(pd.to_numeric, errors='coerce')  # 나머지 열을 숫자로 변환\n",
    "\n",
    "# NaN 값을 평균값으로 대체\n",
    "df = df.fillna(df.mean())\n",
    "\n",
    "# 'SoxDiff_Unit3' 열 생성\n",
    "df['SoxDiff_Unit3'] = df['InletSox_Unit3'] - df['OutletSox_Unit3']\n",
    "\n",
    "# 'SoxDiff_Unit3' 값이 음수인 행 제거\n",
    "df = df[df['SoxDiff_Unit3'] >= 0]"
   ]
  }
 ],
 "metadata": {
  "kernelspec": {
   "display_name": "Python 3 (ipykernel)",
   "language": "python",
   "name": "python3"
  },
  "language_info": {
   "codemirror_mode": {
    "name": "ipython",
    "version": 3
   },
   "file_extension": ".py",
   "mimetype": "text/x-python",
   "name": "python",
   "nbconvert_exporter": "python",
   "pygments_lexer": "ipython3",
   "version": "3.11.7"
  }
 },
 "nbformat": 4,
 "nbformat_minor": 5
}
