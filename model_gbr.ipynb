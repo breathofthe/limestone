{
 "cells": [
  {
   "cell_type": "markdown",
   "id": "6d022ee4-1e48-486c-93b1-04d2ffc8187e",
   "metadata": {},
   "source": [
    "**앞서 EDA의 결과로 상관관계가 가장뚜렷한 soxdiff를 예측하는 모델을 만든다.**"
   ]
  },
  {
   "cell_type": "markdown",
   "id": "FA1YapeYK8XN",
   "metadata": {
    "id": "FA1YapeYK8XN"
   },
   "source": [
    "## GBR 모델"
   ]
  },
  {
   "cell_type": "code",
   "execution_count": 20,
   "id": "8c56ae1c-4a3d-4a9f-accc-157879123d31",
   "metadata": {
    "colab": {
     "base_uri": "https://localhost:8080/"
    },
    "executionInfo": {
     "elapsed": 7480,
     "status": "ok",
     "timestamp": 1719826097379,
     "user": {
      "displayName": "모루",
      "userId": "17202310601886275638"
     },
     "user_tz": -540
    },
    "id": "8c56ae1c-4a3d-4a9f-accc-157879123d31",
    "outputId": "9383b02e-9415-45e4-fad0-586d57e5f6a8"
   },
   "outputs": [
    {
     "name": "stdout",
     "output_type": "stream",
     "text": [
      "MSE: 73.756663438496\n",
      "R2: 0.9744931022955279\n"
     ]
    }
   ],
   "source": [
    "from sklearn.model_selection import train_test_split\n",
    "from sklearn.ensemble import GradientBoostingRegressor\n",
    "from sklearn.metrics import mean_squared_error, r2_score\n",
    "\n",
    "# 특징 변수와 목표 변수 정의\n",
    "X_soxdiff = df[['Power_Unit3', 'InletSox_Unit3', 'Limestone_Unit3']]\n",
    "y_soxdiff = df['SoxDiff_Unit3']\n",
    "\n",
    "# 데이터 분할\n",
    "X_train_soxdiff, X_test_soxdiff, y_train_soxdiff, y_test_soxdiff = train_test_split(X_soxdiff, y_soxdiff, test_size=0.2, random_state=42)\n",
    "\n",
    "# 최적 하이퍼파라미터로 모델 정의 및 훈련\n",
    "model_soxdiff = GradientBoostingRegressor(\n",
    "    random_state=42,\n",
    "    learning_rate=0.1,\n",
    "    max_depth=3,\n",
    "    min_samples_leaf=2,\n",
    "    min_samples_split=5,\n",
    "    n_estimators=100\n",
    ")\n",
    "model_soxdiff.fit(X_train_soxdiff, y_train_soxdiff)\n",
    "\n",
    "# 모델 예측\n",
    "y_pred_soxdiff = model_soxdiff.predict(X_test_soxdiff)\n",
    "\n",
    "# 모델 평가\n",
    "mse_soxdiff = mean_squared_error(y_test_soxdiff, y_pred_soxdiff)\n",
    "r2_soxdiff = r2_score(y_test_soxdiff, y_pred_soxdiff)\n",
    "\n",
    "print(f'MSE: {mse_soxdiff}')\n",
    "print(f'R2: {r2_soxdiff}')\n"
   ]
  },
  {
   "cell_type": "markdown",
   "id": "IjxPIVP2tqha",
   "metadata": {
    "id": "IjxPIVP2tqha"
   },
   "source": [
    "## 하이퍼 파라미터 튜닝(GridSearchCV)"
   ]
  },
  {
   "cell_type": "code",
   "execution_count": 19,
   "id": "zF1C2dRLyD7b",
   "metadata": {
    "colab": {
     "base_uri": "https://localhost:8080/"
    },
    "executionInfo": {
     "elapsed": 3818555,
     "status": "ok",
     "timestamp": 1719823351935,
     "user": {
      "displayName": "모루",
      "userId": "17202310601886275638"
     },
     "user_tz": -540
    },
    "id": "zF1C2dRLyD7b",
    "outputId": "ebf980e9-17e4-4ecc-b454-71fbeeb492b2"
   },
   "outputs": [
    {
     "name": "stdout",
     "output_type": "stream",
     "text": [
      "Best Parameters: {'learning_rate': 0.1, 'max_depth': 3, 'min_samples_leaf': 2, 'min_samples_split': 5, 'n_estimators': 100}\n",
      "Best Cross-Validation R2 Score: 0.9695203451723536\n"
     ]
    }
   ],
   "source": [
    " from sklearn.model_selection import GridSearchCV\n",
    "\n",
    " # 최적 학습 데이터 크기로 데이터 분할\n",
    " optimal_X_train, _, optimal_y_train, _ = train_test_split(\n",
    "     X_soxdiff, y_soxdiff, train_size=optimal_train_size, random_state=42\n",
    " )\n",
    "\n",
    " # 하이퍼파라미터 튜닝\n",
    " param_grid = {\n",
    "     'n_estimators': [100, 200, 300],\n",
    "     'learning_rate': [0.01, 0.1, 0.2],\n",
    "     'max_depth': [3, 4, 5],\n",
    "     'min_samples_split': [2, 5, 10],\n",
    "     'min_samples_leaf': [1, 2, 4]\n",
    " }\n",
    "\n",
    " grid_search = GridSearchCV(\n",
    "     estimator=GradientBoostingRegressor(random_state=42),\n",
    "     param_grid=param_grid,\n",
    "     cv=5,\n",
    "     scoring='r2',\n",
    "     n_jobs=-1\n",
    ")\n",
    "\n",
    " grid_search.fit(optimal_X_train, optimal_y_train)\n",
    "\n",
    "# 최적 하이퍼파라미터 출력\n",
    " print(f'Best Parameters: {grid_search.best_params_}')\n",
    " print(f'Best Cross-Validation R2 Score: {grid_search.best_score_}')"
   ]
  }
 ],
 "metadata": {
  "colab": {
   "provenance": []
  },
  "kernelspec": {
   "display_name": "Python 3 (ipykernel)",
   "language": "python",
   "name": "python3"
  },
  "language_info": {
   "codemirror_mode": {
    "name": "ipython",
    "version": 3
   },
   "file_extension": ".py",
   "mimetype": "text/x-python",
   "name": "python",
   "nbconvert_exporter": "python",
   "pygments_lexer": "ipython3",
   "version": "3.11.7"
  }
 },
 "nbformat": 4,
 "nbformat_minor": 5
}
