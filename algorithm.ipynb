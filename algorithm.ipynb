{
 "cells": [
  {
   "cell_type": "markdown",
   "id": "b361db5d-ca35-4aef-bd07-bfeede700025",
   "metadata": {},
   "source": [
    "# SOx 배출 감소 및 석고 순도 향상을 위한 최적의 석회석 사용량\n",
    "\n",
    "## 소개\n",
    "배연 탈황(Flue Gas Desulfurization, FGD) 과정에서는 황산화물(SOx) 배출을 최대한 줄이면서, 과정의 부산물인 석고의 순도를 높이는 것이 목표입니다. 이 문서에서는 SOx 감소 효율과 석고 순도를 최적화하기 위한 석회석 사용량을 결정하는 알고리즘을 설명합니다.\n",
    "\n",
    "## 문제 설명\n",
    "주요 목표는 FGD 과정에서 사용할 최적의 석회석 사용량을 찾는 것입니다. 석회석 사용량이 증가하면 SOx 감소(SOx diff)도 증가하지만, 과도한 석회석 사용은 석고 순도가 감소할 수 있습니다.\n",
    "\n",
    "## 알고리즘 개요\n",
    "1. **데이터 수집**: `Inlet Sox`, `Outlet Sox`, `Limestone` 사용량 데이터를 수집합니다.\n",
    "2. **SOx 감소 계산**: `SOx diff = Inlet Sox - Outlet Sox`를 계산합니다.\n",
    "3. **최적 지점 탐색**: SOx 감소가 점차 감소하는 지점을 찾아 최적의 석회석 사용량을 결정합니다.\n",
    "\n",
    "## 단계별 설명\n",
    "1. **데이터 준비**:\n",
    "    - 관련 데이터(Inlet Sox, Outlet Sox, Limestone 사용량)를 수집하고 정리합니다.\n",
    "2. **SOx 감소 계산**:\n",
    "    - 각 데이터 포인트에 대해 SOx diff를 계산합니다.\n",
    "3. **최적 지점 탐색**:\n",
    "    - SOx diff와 Limestone 사용량의 관계를 그래프로 시각화합니다.\n",
    "    - SOx diff 증가율이 감소하기 시작하는 지점을 찾아 최적의 Limestone 사용량을 결정합니다."
   ]
  },
  {
   "cell_type": "markdown",
   "id": "1e3a38ef-f5f2-43f3-8063-d222d33077fb",
   "metadata": {},
   "source": [
    "### 2. 초기값 설정\n",
    "- 입력받은 `Inlet Sox` 값을 기준으로 해당 구간에서 Limestone의 평균값을 계산합니다.\n",
    "- 초기값으로 Limestone 평균값보다 약간 작은 값을 설정합니다.\n",
    "\n",
    "### 3. 모델 예측 및 최적값 탐색\n",
    "- Limestone 값을 0.1씩 증가시키며 반복합니다.\n",
    "- 모델을 통해 `SOx diff` 예측값을 계산합니다.\n",
    "- 직전 `SOx diff` 값과 비교하여 증가폭이 0.01 이상이면 해당 `SOx diff`와 Limestone 값을 최적의 값으로 기록하고 다음 반복을 실행합니다.\n",
    "- 만약 증가폭이 0.01 이하인 경우가 3번 연속으로 발생하면 현재 `SOx diff`가 최대값 근처라고 판단하고 3번 반복할 때의 첫 번째 Limestone 값을 최적의 값으로 출력합니다.\n",
    "- 만약 `SOx diff`가 감소하면 즉시 반복을 중단하고 직전의 Limestone 값을 최적의 값으로 출력합니다."
   ]
  },
  {
   "cell_type": "code",
   "execution_count": 3,
   "id": "0f09821e-8478-427f-9dfb-9ab2d3e9f2e2",
   "metadata": {},
   "outputs": [
    {
     "name": "stdout",
     "output_type": "stream",
     "text": [
      "Inlet Sox 구간\t평균 석회석 사용량 (ton)\n",
      "0-100\t1.783524\n",
      "100-150\t4.996903\n",
      "150-200\t6.950159\n",
      "200-250\t8.337030\n",
      "250-300\t10.267330\n",
      "300+\t14.374816\n"
     ]
    },
    {
     "name": "stderr",
     "output_type": "stream",
     "text": [
      "C:\\Users\\lee seung woo\\AppData\\Local\\Temp\\ipykernel_10648\\3733770645.py:7: FutureWarning: The default of observed=False is deprecated and will be changed to True in a future version of pandas. Pass observed=False to retain current behavior or observed=True to adopt the future default and silence this warning.\n",
      "  avg_limestone_usage = df.groupby('InletSox_Range')['Limestone_Unit3'].mean().reset_index()\n"
     ]
    }
   ],
   "source": [
    "# Inlet Sox 구간 설정 및 평균 석회석 사용량 계산\n",
    "bins = [0, 100, 150, 200, 250, 300, float('inf')]\n",
    "labels = ['0-100', '100-150', '150-200', '200-250', '250-300', '300+']\n",
    "df['InletSox_Range'] = pd.cut(df['InletSox_Unit3'], bins=bins, labels=labels)\n",
    "\n",
    "# 구간별 평균 석회석 사용량 계산\n",
    "avg_limestone_usage = df.groupby('InletSox_Range')['Limestone_Unit3'].mean().reset_index()\n",
    "\n",
    "# 결과 출력\n",
    "print(\"Inlet Sox 구간\\t평균 석회석 사용량 (ton)\")\n",
    "for _, row in avg_limestone_usage.iterrows():\n",
    "    print(f\"{row['InletSox_Range']}\\t{row['Limestone_Unit3']:.6f}\")"
   ]
  },
  {
   "cell_type": "code",
   "execution_count": 5,
   "id": "78ee0932-7175-4520-ba52-b93f059b4602",
   "metadata": {},
   "outputs": [],
   "source": [
    "# Define a function to get the initial limestone based on inlet_sox\n",
    "def get_initial_limestone(inlet_sox):\n",
    "    if inlet_sox <= 100:\n",
    "        return 1.83524-0.5\n",
    "    elif inlet_sox <= 150:\n",
    "        return 4.996510-0.5\n",
    "    elif inlet_sox <= 200:\n",
    "        return 6.843625-0.5\n",
    "    elif inlet_sox <= 250:\n",
    "        return 8.337030-0.5\n",
    "    elif inlet_sox <= 300:\n",
    "        return 10.207591-0.5\n",
    "    else:\n",
    "        return 14.374816-0.5\n",
    "\n",
    "# Calculate the average power for Unit 3\n",
    "average_power_unit3 = df['Power_Unit3'].mean()"
   ]
  },
  {
   "cell_type": "code",
   "execution_count": 6,
   "id": "4530c0c9-117a-40e2-9947-e29660dc11ef",
   "metadata": {},
   "outputs": [],
   "source": [
    "def find_optimal_limestone_soxdiff(model, inlet_sox, power_unit3=None, threshold=0.01, increment=0.1, max_iterations=1000):\n",
    "    if power_unit3 is None:\n",
    "        power_unit3 = average_power_unit3\n",
    "    initial_limestone = get_initial_limestone(inlet_sox)\n",
    "    current_limestone = initial_limestone\n",
    "    previous_sox_diff = 0\n",
    "    consecutive_count = 0  # 연속으로 조건을 만족한 횟수\n",
    "    first_optimal_limestone = None  # 처음으로 조건을 만족한 limestone 값\n",
    "\n",
    "    for iteration in range(max_iterations):\n",
    "        current_limestone += increment\n",
    "        data = pd.DataFrame({\n",
    "            'Power_Unit3': [power_unit3],\n",
    "            'InletSox_Unit3': [inlet_sox],\n",
    "            'Limestone_Unit3': [current_limestone]\n",
    "        })\n",
    "        current_sox_diff = model.predict(data)[0]\n",
    "\n",
    "        # 디버깅을 위한 출력\n",
    "        print(f\"Iteration: {iteration}, Limestone: {current_limestone}, SoxDiff: {current_sox_diff}, Previous SoxDiff: {previous_sox_diff}\")\n",
    "\n",
    "        if abs(current_sox_diff - previous_sox_diff) < threshold:\n",
    "            consecutive_count += 1\n",
    "            if consecutive_count == 1:\n",
    "                first_optimal_limestone = current_limestone\n",
    "            if consecutive_count >= 3:\n",
    "                break\n",
    "        else:\n",
    "            consecutive_count = 0\n",
    "\n",
    "        # SoxDiff가 감소하면 중단하고 직전의 limestone 값을 최적의 값으로 저장\n",
    "        if current_sox_diff < previous_sox_diff:\n",
    "            return previous_limestone, previous_sox_diff\n",
    "\n",
    "        previous_sox_diff = current_sox_diff\n",
    "        previous_limestone = current_limestone\n",
    "\n",
    "    return first_optimal_limestone, current_sox_diff"
   ]
  },
  {
   "cell_type": "code",
   "execution_count": 27,
   "id": "d2cf0439-f8e7-4d88-bfdf-a1b606144359",
   "metadata": {},
   "outputs": [
    {
     "name": "stdout",
     "output_type": "stream",
     "text": [
      "Iteration: 0, Limestone: 4.596509999999999, SoxDiff: 120.24967504237144, Previous SoxDiff: 0\n",
      "Iteration: 1, Limestone: 4.696509999999999, SoxDiff: 120.24967504237144, Previous SoxDiff: 120.24967504237144\n",
      "Iteration: 2, Limestone: 4.796509999999999, SoxDiff: 120.24967504237144, Previous SoxDiff: 120.24967504237144\n",
      "Iteration: 3, Limestone: 4.896509999999998, SoxDiff: 120.24967504237144, Previous SoxDiff: 120.24967504237144\n",
      "Optimal Limestone: 4.696509999999999\n",
      "Final SoxDiff: 120.24967504237144\n"
     ]
    }
   ],
   "source": [
    "inlet_sox = 120 # This can be input by the user\n",
    "optimal_limestone, final_sox_diff = find_optimal_limestone_soxdiff(model_soxdiff, inlet_sox)\n",
    "\n",
    "print(f\"Optimal Limestone: {optimal_limestone}\")\n",
    "print(f\"Final SoxDiff: {final_sox_diff}\")"
   ]
  },
  {
   "cell_type": "code",
   "execution_count": null,
   "id": "74fc51bc-c38c-4cd5-8efa-d59cc8c89c1e",
   "metadata": {},
   "outputs": [],
   "source": []
  }
 ],
 "metadata": {
  "kernelspec": {
   "display_name": "Python 3 (ipykernel)",
   "language": "python",
   "name": "python3"
  },
  "language_info": {
   "codemirror_mode": {
    "name": "ipython",
    "version": 3
   },
   "file_extension": ".py",
   "mimetype": "text/x-python",
   "name": "python",
   "nbconvert_exporter": "python",
   "pygments_lexer": "ipython3",
   "version": "3.11.7"
  }
 },
 "nbformat": 4,
 "nbformat_minor": 5
}
